{
 "cells": [
  {
   "cell_type": "code",
   "execution_count": 1,
   "id": "409b2995",
   "metadata": {},
   "outputs": [
    {
     "name": "stderr",
     "output_type": "stream",
     "text": [
      "chunk:   0%|                                                                | 3/2206 [00:00<01:41, 21.64it/s, now=None]"
     ]
    },
    {
     "name": "stdout",
     "output_type": "stream",
     "text": [
      "MoviePy - Writing audio in Convert_audio.wav\n"
     ]
    },
    {
     "name": "stderr",
     "output_type": "stream",
     "text": [
      "                                                                                                                       "
     ]
    },
    {
     "name": "stdout",
     "output_type": "stream",
     "text": [
      "MoviePy - Done.\n",
      "Finished the convertion into audio...\n"
     ]
    },
    {
     "name": "stderr",
     "output_type": "stream",
     "text": [
      "\r"
     ]
    }
   ],
   "source": [
    "#pip install SpeechRecognition moviepy\n",
    "#video to audio conversion\n",
    "# Libraries import\n",
    "import moviepy.editor as mp\n",
    "\n",
    "# It will clip the video \n",
    "# subclip(starttime, endtime) to clip portion of video\n",
    "# you can remove the subclip to convert complete video\n",
    "clip = mp.VideoFileClip(r\"video4.mp4\").subclip(0, 100)\n",
    "\n",
    "# It will write the audio in converted_audio.wav file.\n",
    "clip.audio.write_audiofile(r\"Convert_audio.wav\")\n",
    "print(\"Finished the convertion into audio...\")"
   ]
  },
  {
   "cell_type": "code",
   "execution_count": 2,
   "id": "8da5d489",
   "metadata": {},
   "outputs": [
    {
     "name": "stdout",
     "output_type": "stream",
     "text": [
      "Audio file read...\n"
     ]
    }
   ],
   "source": [
    "#audio to text conversion\n",
    "# Libraries import\n",
    "import speech_recognition as sr \n",
    "\n",
    "# It will read audio file\n",
    "audio = sr.AudioFile(\"Convert_audio.wav\")\n",
    "print(\"Audio file read...\")\n",
    "\n",
    "# Here the magic start\n",
    "# create an instance of recognizer as r \n",
    "r = sr.Recognizer()\n",
    "\n",
    "with audio as source:\n",
    "    audio_file = r.record(source)\n",
    "\n",
    "# Here we get our text \n",
    "result = r.recognize_google(audio_file)\n",
    "\n",
    "# Now we will store the text in file\n",
    "with open('recognized.txt',mode ='w') as file:\n",
    "    file.write(result)\n"
   ]
  },
  {
   "cell_type": "code",
   "execution_count": 3,
   "id": "b8aff0fd",
   "metadata": {},
   "outputs": [
    {
     "name": "stdout",
     "output_type": "stream",
     "text": [
      "Pakistan will send more 8 Ukraine to help the humanitarian crisis in a phone call on tuesday Pakistani Prime Minister and ukraine's President agreed on the urgent need for a ceasefire in a resolution to the conflicts with diplomacy what is best in pressure Mansa consideration in version of Ukraine dynamically changing the UN General Assembly 35 countries abstain from voting Indian fresher in Bangladesh India and Sri Lanka hours before attack Ukraine Prime Minister Imran Khan was in Moscow visit schedule months in advance tractor both criticism in praise from my phone in supporters and Pakistan want to enhance bilateral ties including building a pipeline to import Russian gas will progress on that remains slow President Vladimir Putin has signed a few other deals we are expanding our relationships and is always going to be a balancing act am in you can China and America have their differences with each other but a trade so intensely with each other the contents are absolutely mind-boggling Pakistan WhatsApp bigger financial diplomatic and strategic space in the region but it also have a delicate balancing act between Russia and western powers is it needs post regional development and economic partnership in recent weeks the Prime Minister lashed out at you diplomats asking for public condonation Russia\n"
     ]
    }
   ],
   "source": [
    "f = open(\"recognized.txt\", \"r\")\n",
    "print(f.read())\n"
   ]
  },
  {
   "cell_type": "code",
   "execution_count": 15,
   "id": "20a146be",
   "metadata": {},
   "outputs": [],
   "source": [
    "#removing stopwords\n",
    "import nltk \n",
    "import string \n",
    "from nltk.corpus import stopwords \n",
    " \n",
    "with open('recognized.txt','r') as inFile, open('recognize.txt','w') as outFile: \n",
    "    for line in inFile.readlines():\n",
    "        print(\" \".join([word for word in line.lower().translate(str.maketrans('', '', string.punctuation)).split()\n",
    "                        if len(word) >=4 and word not in stopwords.words('english')]), file=outFile) \n",
    "        "
   ]
  },
  {
   "cell_type": "code",
   "execution_count": 16,
   "id": "be73ff02",
   "metadata": {},
   "outputs": [
    {
     "name": "stdout",
     "output_type": "stream",
     "text": [
      "pakistan send ukraine help humanitarian crisis phone call tuesday pakistani prime minister ukraines president agreed urgent need ceasefire resolution conflicts diplomacy best pressure mansa consideration version ukraine dynamically changing general assembly countries abstain voting indian fresher bangladesh india lanka hours attack ukraine prime minister imran khan moscow visit schedule months advance tractor criticism praise phone supporters pakistan want enhance bilateral ties including building pipeline import russian progress remains slow president vladimir putin signed deals expanding relationships always going balancing china america differences trade intensely contents absolutely mindboggling pakistan whatsapp bigger financial diplomatic strategic space region also delicate balancing russia western powers needs post regional development economic partnership recent weeks prime minister lashed diplomats asking public condonation russia\n",
      "\n"
     ]
    }
   ],
   "source": [
    "f = open(\"recognize.txt\", \"r\")\n",
    "print(f.read())\n"
   ]
  },
  {
   "cell_type": "code",
   "execution_count": null,
   "id": "93c0955e",
   "metadata": {},
   "outputs": [],
   "source": []
  },
  {
   "cell_type": "code",
   "execution_count": null,
   "id": "f1216e28",
   "metadata": {},
   "outputs": [],
   "source": []
  },
  {
   "cell_type": "code",
   "execution_count": null,
   "id": "5d54c78f",
   "metadata": {},
   "outputs": [],
   "source": [
    "\n"
   ]
  },
  {
   "cell_type": "code",
   "execution_count": null,
   "id": "48490bb0",
   "metadata": {},
   "outputs": [],
   "source": []
  },
  {
   "cell_type": "code",
   "execution_count": null,
   "id": "15ef6416",
   "metadata": {},
   "outputs": [],
   "source": []
  }
 ],
 "metadata": {
  "kernelspec": {
   "display_name": "Python 3",
   "language": "python",
   "name": "python3"
  },
  "language_info": {
   "codemirror_mode": {
    "name": "ipython",
    "version": 3
   },
   "file_extension": ".py",
   "mimetype": "text/x-python",
   "name": "python",
   "nbconvert_exporter": "python",
   "pygments_lexer": "ipython3",
   "version": "3.8.8"
  }
 },
 "nbformat": 4,
 "nbformat_minor": 5
}
